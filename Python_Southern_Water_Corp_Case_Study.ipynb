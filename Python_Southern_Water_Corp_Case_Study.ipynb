{
 "cells": [
  {
   "cell_type": "markdown",
   "metadata": {},
   "source": [
    "### Welcome to the Southern Water Corp Python Case Study!\n",
    "\n",
    "While working on the Financial unit, you used Microsoft Excel's data analytics capabilities to analyze Southern Water Corp's data.\n",
    "\n",
    "Now, Joanna Luez — Southern Water Corp's Lead Scientist — has requested that you convert your earlier analysis in Excel to Python Code. After all, with all the formulas in Excel, it can be tricky for others with less experience in Excel to follow.\n",
    "\n",
    "Excel is an excellent tool for adhoc analysis, but Python is an invaluable tool thanks to its advanced data analysis capabilities that only take a few lines of code to complete.\n",
    "\n",
    "**Please note that this case study is composed of two parts** — once you have completed part 1, which involves descriptive statistics, please submit your work and discuss it with your mentor before moving on to part 2. \n",
    "\n",
    "### Let's get started!"
   ]
  },
  {
   "cell_type": "markdown",
   "metadata": {},
   "source": [
    "---"
   ]
  },
  {
   "cell_type": "markdown",
   "metadata": {},
   "source": [
    "## Part I: <span style=\"color:blue\">Descriptive Statistics</span>"
   ]
  },
  {
   "cell_type": "markdown",
   "metadata": {},
   "source": [
    "### Step 1: <span style=\"color:green\">Import Libraries</span> \n",
    "\n",
    "Import the libraries you'll need for your analysis. You will need the following libraries:  \n",
    "\n",
    "**Matplotlib** - This is Python's basic plotting library.\n",
    "You'll use the pyplot and dates function collections from matplotlib throughout this case study so we encourage you to important these two specific libraries with their own aliases. Also, include the line **'%matplotlib inline'** so that your graphs are easily included in your notebook. You will need to import DateFormatter from matplotlib as well.\n",
    "\n",
    "**Seaborn** - This library will enable you to create aesthetically pleasing plots.\n",
    "\n",
    "**Pandas** - This library will enable you to view and manipulate your data in a tabular format.\n",
    "\n",
    "**statsmodel.api** - This library will enable you to create statistical models. You will need this library when perfroming regession analysis in Part 2 of this case study."
   ]
  },
  {
   "cell_type": "markdown",
   "metadata": {},
   "source": [
    "## Place your code here"
   ]
  },
  {
   "cell_type": "code",
   "execution_count": null,
   "metadata": {},
   "outputs": [],
   "source": [
    "\n",
    "\n",
    "\n"
   ]
  },
  {
   "cell_type": "markdown",
   "metadata": {},
   "source": [
    "---------------------------------------------------------------------------"
   ]
  },
  {
   "cell_type": "markdown",
   "metadata": {},
   "source": [
    "\n",
    "### Step 2: <span style=\"color:green\">Descriptive Statistics</span> \n",
    "Unfortunately, the data you've received from Southern Water Corp has been split into three files: Desalination_Unit_File 001, Desalination_Unit_File_002, and Desalination_Unit_File_003. You'll need to merge them into a complete dataframe for your analysis. To do this, follow the steps below: \n",
    "\n",
    "i. Import each of the three separate files and merge them into one dataframe.  Suggested names: **(dataframe_1, dataframe_2, dataframe_3)**. Don't forget to use the **header** argument to ensure your columns have meaningful names! \n",
    "\n",
    "ii. Print descriptive statistics on your combined dataframe using **.describe()** and **.info()**\n",
    "\n",
    "iii. Set \"TIMEFRAME\" as the index on your combined dataframe. "
   ]
  },
  {
   "cell_type": "code",
   "execution_count": null,
   "metadata": {
    "scrolled": false
   },
   "outputs": [],
   "source": []
  },
  {
   "cell_type": "markdown",
   "metadata": {},
   "source": [
    "---------------------------------------------------------------------------"
   ]
  },
  {
   "cell_type": "markdown",
   "metadata": {},
   "source": [
    "### Step 3: <span style=\"color:green\">Create a Boxplot</span> \n",
    "\n",
    "When you look at your dataframe, you should now be able to see the upper and lower quartiles for each row of data. You should now also have a rough sense of the number of entires in each dataset. However, just as you learned when using Excel, creating a visualization of the data using Python is often more informative than viewing the table statistics. Next up — convert the tables you created into a boxplot by following these instructions:\n",
    "\n",
    "i) Create a boxplot from your combined dataframe using **matplotlib and seaborn** with all the variables plotted out. Note: do any particular variables stand out to you? Title your visualization **\"Boxplot for all attributes\"** and set the boxplot size to 25 x 5."
   ]
  },
  {
   "cell_type": "markdown",
   "metadata": {},
   "source": [
    "### Please put your code here\n"
   ]
  },
  {
   "cell_type": "code",
   "execution_count": null,
   "metadata": {},
   "outputs": [],
   "source": []
  },
  {
   "cell_type": "markdown",
   "metadata": {},
   "source": [
    "#### You would probably note that it might seem that some variables, due to their range and size of values, dwarfs some of the other variables which makes the variation difficult to see.\n",
    "#### Perhaps, we should remove these variables and look at the box plot again?"
   ]
  },
  {
   "cell_type": "markdown",
   "metadata": {},
   "source": [
    "---------------------------------------------------------------------------"
   ]
  },
  {
   "cell_type": "markdown",
   "metadata": {},
   "source": [
    "### Step 4: <span style=\"color:green\">Create a Filtered Boxplot</span>  \n",
    "i) Create the same boxplot from  <span style=\"color:green\">Step 3</span>, but this time, filter out SURJEK_PUMP_TORQUE and MAXIMUM_DAILY_PUMP_TORQUE. Create a new dataframe and apply a filter named **'dataframe_filt'**. Title this boxplot 'Boxplot without Pump Torque, or Max Daily Pump Torque'.  We have provided the filter list for you.\n",
    "\n",
    "**Open-ended question:**\n",
    "\n",
    "Beyond pump torque and max daily pump torque, do any other attributes seem to 'stand out'?"
   ]
  },
  {
   "cell_type": "markdown",
   "metadata": {},
   "source": [
    "## Please put your code here"
   ]
  },
  {
   "cell_type": "code",
   "execution_count": 1,
   "metadata": {},
   "outputs": [
    {
     "ename": "NameError",
     "evalue": "name 'mpl' is not defined",
     "output_type": "error",
     "traceback": [
      "\u001b[0;31m---------------------------------------------------------------------------\u001b[0m",
      "\u001b[0;31mNameError\u001b[0m                                 Traceback (most recent call last)",
      "\u001b[0;32m<ipython-input-1-e4d0b5fbe8d8>\u001b[0m in \u001b[0;36m<module>\u001b[0;34m\u001b[0m\n\u001b[1;32m      3\u001b[0m        \u001b[0;34m'SURJEK_AMMONIA_FLOW_RATE'\u001b[0m\u001b[0;34m,\u001b[0m \u001b[0;34m'SURJEK_TUBE_PRESSURE'\u001b[0m\u001b[0;34m,\u001b[0m\u001b[0;34m\u001b[0m\u001b[0;34m\u001b[0m\u001b[0m\n\u001b[1;32m      4\u001b[0m        'SURJEK_ESTIMATED_EFFICIENCY', 'PUMP FAILURE (1 or 0)'] \n\u001b[0;32m----> 5\u001b[0;31m \u001b[0mmpl\u001b[0m\u001b[0;34m.\u001b[0m\u001b[0mrcParams\u001b[0m\u001b[0;34m[\u001b[0m\u001b[0;34m'figure.figsize'\u001b[0m\u001b[0;34m]\u001b[0m \u001b[0;34m=\u001b[0m \u001b[0;34m(\u001b[0m\u001b[0;36m25\u001b[0m\u001b[0;34m,\u001b[0m\u001b[0;36m5\u001b[0m\u001b[0;34m)\u001b[0m\u001b[0;34m\u001b[0m\u001b[0;34m\u001b[0m\u001b[0m\n\u001b[0m\u001b[1;32m      6\u001b[0m \u001b[0;31m#--write your code below------\u001b[0m\u001b[0;34m\u001b[0m\u001b[0;34m\u001b[0m\u001b[0;34m\u001b[0m\u001b[0m\n",
      "\u001b[0;31mNameError\u001b[0m: name 'mpl' is not defined"
     ]
    }
   ],
   "source": [
    "#Below is the first part of the code\n",
    "filt = ['SURJEK_FLOW_METER_1', 'SURJEK_FLOW_METER_2', 'ROTATIONAL_PUMP_RPM',\n",
    "       'SURJEK_AMMONIA_FLOW_RATE', 'SURJEK_TUBE_PRESSURE',\n",
    "       'SURJEK_ESTIMATED_EFFICIENCY', 'PUMP FAILURE (1 or 0)'] \n",
    "mpl.rcParams['figure.figsize'] = (25,5)\n",
    "#--write your code below------\n"
   ]
  },
  {
   "cell_type": "markdown",
   "metadata": {},
   "source": [
    "---------------------------------------------------------------------------"
   ]
  },
  {
   "cell_type": "markdown",
   "metadata": {},
   "source": [
    "### Step 5: <span style=\"color:green\">Filter Your Boxplot by Column Value</span> \n",
    "\n",
    "i) Using the whole dataset, create another boxplot using the whole dataset but this time, compare the distributions for when Pump Failure is 1 (The Pump has failed) and 0 (Pump is in normal operations). You will be creating two boxplots using the 'PUMP FAILURE (1 or 0)' column in the dataset. We have provided a few lines of code to get you started. Once complete, you should be able to see how much quicker it is to apply filters in Python than it is in Excel. \n",
    "\n",
    "Note: Please display the two boxplots side-by-side. You can do this by creating a shared X axis or by creating two axes and looping through them while using the pyplot command.\n",
    "\n",
    "**Open-ended Question:**\n",
    "\n",
    "What variables seem to have the largest variation when the Pump has failed?\n"
   ]
  },
  {
   "cell_type": "markdown",
   "metadata": {},
   "source": [
    "## Please put your code here"
   ]
  },
  {
   "cell_type": "code",
   "execution_count": null,
   "metadata": {},
   "outputs": [],
   "source": []
  },
  {
   "cell_type": "markdown",
   "metadata": {},
   "source": [
    "### From analysing the boxplots, you'll notice that there seem to be a number of outliers.\n",
    "When you did this work in Excel, you used the interquartile ranges to remove the outliers from each column. Happily, Python allows you to do this same process more quickly and efficiently, as you'll see when working on  <span style=\"color:green\">Step 6</span>."
   ]
  },
  {
   "cell_type": "markdown",
   "metadata": {},
   "source": [
    "---------------------------------------------------------------------------"
   ]
  },
  {
   "cell_type": "markdown",
   "metadata": {},
   "source": [
    "### Step 6: <span style=\"color:green\">Create Quartiles</span> \n",
    "\n",
    "i) Create two new variables called Q1 and Q3. q1 should contain the 25th percentile for all columns in the dataframe while Q3 should contain the 75th percentile for all the columns in the dataframe.\n",
    "\n",
    "ii) Calculate the interquartile range **(IQR = Q3 - Q1)** for all columns in the dataframe and print it to the screen."
   ]
  },
  {
   "cell_type": "markdown",
   "metadata": {},
   "source": [
    "## Please put your code here"
   ]
  },
  {
   "cell_type": "code",
   "execution_count": null,
   "metadata": {},
   "outputs": [],
   "source": []
  },
  {
   "cell_type": "markdown",
   "metadata": {},
   "source": [
    "---------------------------------------------------------------------------"
   ]
  },
  {
   "cell_type": "markdown",
   "metadata": {},
   "source": [
    "### Step 7: <span style=\"color:green\">Identify Outliers</span> \n",
    "\n",
    "How many outliers do you have? What will happen to your dataset if you remove them all? Let's find out!\n",
    "\n",
    "i) Calculate how many entries you currently have in the original dataframe.\n",
    "\n",
    "ii) Using the quartiles and IQR previously calculated, identify the number of entries you'd have if you were to remove the outliers.\n",
    "\n",
    "ii) Find the proportion of outliers that exist in the dataset.\n",
    "\n",
    "Ensure your dataframe doesn't include the attribute TIMEFRAME - if it does, please drop this attribute for now.\n"
   ]
  },
  {
   "cell_type": "markdown",
   "metadata": {},
   "source": [
    "## Please put your code here"
   ]
  },
  {
   "cell_type": "code",
   "execution_count": null,
   "metadata": {},
   "outputs": [],
   "source": [
    "#Below is the first part of the code\n",
    "dataframe = pd.concat(combine)\n",
    "df = dataframe.drop('TIMEFRAME', axis=1)\n",
    "#---write your code below----------------\n",
    "\n",
    "#We have provided the print line, you need to provide the calculation after the quoted text:\n",
    "print (\"When we have not removed any outliers from the dataset, we have \" + _______ + \" entries\") \n",
    "\n",
    "___________________________________\n",
    "\n",
    "#We have provided the print line, you need to provide the calculation after the quoted text:\n",
    "print (\"When we have not removed any outliers from the dataset, we have \" + _______ + \" entries\")\n",
    "print (\"The proportion of outliers which exist when compared to the dataframe are: \" + _________)"
   ]
  },
  {
   "cell_type": "markdown",
   "metadata": {},
   "source": [
    "---------------------------------------------------------------------------"
   ]
  },
  {
   "cell_type": "markdown",
   "metadata": {},
   "source": [
    "### Step 8: <span style=\"color:green\">Create a Boxplot without Outliers</span> \n",
    "\n",
    "With the dataset now stripped of outliers, create the following boxplots:\n",
    "\n",
    "i) A boxplot when PUMP FAILURE is 1\n",
    "\n",
    "ii) A boxplot when PUMP FAILURE is 0 \n",
    "\n",
    "#### Note 1: Removing outliers is very situational and specific. Outliers can skew the dataset unfavourably; however, if you are doing a failure analysis, it is likely those outliers actually contain valuable insights you will want to keep as they represent a deviation from the norm that you'll need to understand. \n",
    "\n",
    "\n",
    "#### Note 2: Please display the two boxplots side-by-side. You can do this by creating a shared X axis or by creating two axes and looping through them while using the pyplot command.\n"
   ]
  },
  {
   "cell_type": "markdown",
   "metadata": {},
   "source": [
    "## Please put your code here"
   ]
  },
  {
   "cell_type": "code",
   "execution_count": null,
   "metadata": {},
   "outputs": [],
   "source": [
    "#Below is the first part of the code\n",
    "f, axes = plt.subplots(1, 2, sharey=True)\n",
    "f.suptitle(\"BoxPlot when the Pump is currently in a Failure State with no outliers (Left) versus that of normal operations with no outliers (Right)\")\n",
    "mpl.rcParams['figure.figsize'] = (15,5)\n",
    "#---write your code below-------------\n",
    "\n"
   ]
  },
  {
   "cell_type": "markdown",
   "metadata": {},
   "source": [
    "### Based on the boxplots you've created, you've likely come to the conclusion that, for this case study, you actually _shouldn't_ remove the outliers, as you are attempting to understand the Pump Failure Behavior."
   ]
  },
  {
   "cell_type": "markdown",
   "metadata": {},
   "source": [
    "-----"
   ]
  },
  {
   "cell_type": "markdown",
   "metadata": {},
   "source": [
    "### Step 9: <span style=\"color:green\">Plot and Examine Each Column</span> \n",
    "We have provided a filtered column list for you.   \n",
    "\n",
    "Using a loop, iterate through each of the Column Names and plot the data. (You can either make your X-axis the Timeframe variable or you can leave it blank and use the row numbers as an index). \n",
    "\n",
    "Find the minimum (min) and maximum (max) time in the dataframe. Use Tight_layout. Include a title with min and max time. \n",
    "\n",
    "**Note:** For each plot, ensure that you have a dual axis set up so you can see the Pump Behaviour (0 or 1) on the second Y-axis, and the attribute (e.g. SURJEK_FLOW_METER_1) on the first Y-Axis. It might be helpful to give the failureState it's own color and add a legend to the axis to make it easier to view. \n",
    "\n",
    "Check out this link to learn how to do this: https://matplotlib.org/gallery/api/two_scales.html\n",
    "\n",
    "##### Note: Please ensure that the dataframe you are plotting contains all the outliers and that the Pump Failure Behaviour includes both the 0 and 1 State."
   ]
  },
  {
   "cell_type": "markdown",
   "metadata": {},
   "source": [
    "## Please put your code here"
   ]
  },
  {
   "cell_type": "code",
   "execution_count": null,
   "metadata": {},
   "outputs": [],
   "source": [
    "#Below is the first part of the code\n",
    "filt = ['SURJEK_FLOW_METER_1', 'SURJEK_FLOW_METER_2', 'ROTATIONAL_PUMP_RPM',\n",
    "       'SURJEK_PUMP_TORQUE', 'MAXIMUM_DAILY_PUMP_TORQUE',\n",
    "       'SURJEK_AMMONIA_FLOW_RATE', 'SURJEK_TUBE_PRESSURE',\n",
    "       'SURJEK_ESTIMATED_EFFICIENCY']\n",
    "filt2 = ['PUMP FAILURE (1 or 0)']\n",
    "colList = dataframe[filt].columns\n",
    "mpl.rcParams['figure.figsize'] = (10,2)\n",
    "#---write your code below-------\n",
    "\n",
    "\n",
    "#---To Here------\n",
    "    plt.show()\n"
   ]
  },
  {
   "cell_type": "markdown",
   "metadata": {},
   "source": [
    "\n",
    "Of course, given that all the attributes have varying units, you might need more than one plot to make sense of all this data. For this next step, let's view the information by comparing the <b>ROLILNG DEVIATIONS</b> over a 30-point period.\n",
    "\n",
    "As the deviations will likely be a lot lower, the scale should be much simpler to view on one plot.\n",
    "Make sure that you include the 'PUMP FAILURE 1 or 0' attribute on the secondary Y-axis. \n",
    "\n",
    "#### Hint: Remember to make use of the Dual-Axis plot trick you learned in the previous exercise!\n"
   ]
  },
  {
   "cell_type": "markdown",
   "metadata": {},
   "source": [
    "---"
   ]
  },
  {
   "cell_type": "markdown",
   "metadata": {},
   "source": [
    "### Step 10: <span style=\"color:green\">Create a Plot for Pump Failures Over a Rolling Time Period</span> \n",
    "\n",
    "i) Apply a rolling standard deviation to the dataframe using a rolling window size of '30'.\n",
    "\n",
    "\n",
    "ii) Re-plot all variables for the time period 10/12/2014 14:40 to 10/12/2014 14:45, focusing specifically on the first Pump “Failure”. \n",
    "\n",
    "\n",
    "**Open-ended Question:**\n",
    "Do any particular variables seem to move in relation to the failure event?"
   ]
  },
  {
   "cell_type": "markdown",
   "metadata": {},
   "source": [
    "## Please put your code here"
   ]
  },
  {
   "cell_type": "code",
   "execution_count": null,
   "metadata": {
    "scrolled": true
   },
   "outputs": [],
   "source": [
    "#Below is the first part of the code\n",
    "from datetime import datetime\n",
    "dataframe = pd.concat(combine)\n",
    "dataframe['TIMEFRAME'] = pd.to_datetime(dataframe['TIMEFRAME']).apply(lambda x: x.strftime('%d/%m/%Y %H:%M:%S')if not pd.isnull(x) else '')\n",
    "filt = ['SURJEK_FLOW_METER_1', 'SURJEK_FLOW_METER_2', 'ROTATIONAL_PUMP_RPM',\n",
    "       'SURJEK_PUMP_TORQUE', 'MAXIMUM_DAILY_PUMP_TORQUE',\n",
    "       'SURJEK_AMMONIA_FLOW_RATE', 'SURJEK_TUBE_PRESSURE',\n",
    "       'SURJEK_ESTIMATED_EFFICIENCY','PUMP FAILURE (1 or 0)', 'TIMEFRAME']\n",
    "filt2 = ['PUMP FAILURE (1 or 0)']\n",
    "filt3 = ['SURJEK_FLOW_METER_1', 'SURJEK_FLOW_METER_2', 'ROTATIONAL_PUMP_RPM',\n",
    "       'SURJEK_PUMP_TORQUE', 'MAXIMUM_DAILY_PUMP_TORQUE',\n",
    "       'SURJEK_AMMONIA_FLOW_RATE', 'SURJEK_TUBE_PRESSURE',\n",
    "       'SURJEK_ESTIMATED_EFFICIENCY']\n",
    "colList = dataframe[filt].columns\n",
    "mpl.rcParams['figure.figsize'] = (15,4)\n",
    "dataframe.set_index('TIMEFRAME', inplace=True)\n",
    "#----write your code below-------\n",
    "\n",
    "\n",
    "#Loop through the Plot\n",
    "\n"
   ]
  },
  {
   "cell_type": "markdown",
   "metadata": {},
   "source": [
    "---"
   ]
  },
  {
   "cell_type": "markdown",
   "metadata": {},
   "source": [
    "## Part II: <span style=\"color:blue\">Inferential Statistical Analysis</span>"
   ]
  },
  {
   "cell_type": "markdown",
   "metadata": {},
   "source": [
    "When you performed inferential statistics for Southern Water Corp using Excel, you made use of the data analysis package to create a heatmap using the correlation function. The heatmap showed the attributes that strongly correlated to Pump Failure. \n",
    "\n",
    "Now, you'll create a heatmap using Seaborn's heatmap function — another testament to the fact that having Matplotlib and Seaborn in your toolbox will allow you to quickly create beautiful graphics that provide key insights. \n",
    "\n",
    "### Step 11: <span style=\"color:purple\">Create a Heatmap</span> \n",
    "i) Using Seaborn's heatmap function, create a heatmap that clearly shows the correlations (including R Squared) for all variables (excluding those with consistent 0 values such as Ammonia Flow Rate).\n",
    "\n",
    "**Note:** We have provided the filter list and created the dataframe for you. \n",
    "\n",
    "Link: (https://seaborn.pydata.org/generated/seaborn.heatmap.html)"
   ]
  },
  {
   "cell_type": "markdown",
   "metadata": {},
   "source": [
    "## Please put your code here"
   ]
  },
  {
   "cell_type": "code",
   "execution_count": null,
   "metadata": {},
   "outputs": [],
   "source": [
    "#Below is the first part of the code\n",
    "from datetime import datetime\n",
    "dataframe = pd.concat(combine)\n",
    "dataframe['TIMEFRAME'] = pd.to_datetime(dataframe['TIMEFRAME'], format=\"%d/%m/%Y %H:%M:%S\", infer_datetime_format=True )\n",
    "dataframe.set_index('TIMEFRAME', inplace=True)\n",
    "\n",
    "filt = ['SURJEK_FLOW_METER_1', 'SURJEK_FLOW_METER_2', 'ROTATIONAL_PUMP_RPM',\n",
    "       'SURJEK_PUMP_TORQUE', 'MAXIMUM_DAILY_PUMP_TORQUE',\n",
    "       'SURJEK_TUBE_PRESSURE',\n",
    "       'SURJEK_ESTIMATED_EFFICIENCY','PUMP FAILURE (1 or 0)']\n",
    "dataframe = dataframe[filt]\n",
    "#----write your code below--------\n",
    "\n",
    "\n"
   ]
  },
  {
   "cell_type": "markdown",
   "metadata": {},
   "source": [
    "**Open-ended Question:**\n",
    "\n",
    "Which variables seem to correlate with Pump Failure?\n",
    "\n",
    "### Step 12: <span style=\"color:purple\">Create a Barplot of Correlated Features</span>\n",
    "Create a barplot that shows the correlated features against PUMP FAILURE (1 or 0), in descending order."
   ]
  },
  {
   "cell_type": "markdown",
   "metadata": {},
   "source": [
    "### Please put your code here"
   ]
  },
  {
   "cell_type": "code",
   "execution_count": null,
   "metadata": {},
   "outputs": [],
   "source": []
  },
  {
   "cell_type": "markdown",
   "metadata": {},
   "source": [
    "---"
   ]
  },
  {
   "cell_type": "markdown",
   "metadata": {},
   "source": [
    "### Step 13: <span style=\"color:purple\">Create a Rolling Standard Deviation Heatmap</span> \n",
    "Previously, you created a correlation matrix using 'raw' variables. This time, you'll transform 'raw' variables using a rolling standard deviation. \n",
    "\n",
    "i) Apply a rolling standard deviation to the dataframe using a rolling window size of '30'.\n",
    "\n",
    "ii) Using the newly created rolling standard deviation dataframe, use the Seaborn heatmap function to replot this dataframe into a heatmap.\n",
    "\n",
    "Do any variables stand out? If yes, list these out below your heatmap.\n",
    "\n",
    "**Note:** We have provided the initial dataframe and filters."
   ]
  },
  {
   "cell_type": "markdown",
   "metadata": {},
   "source": [
    "## Please put your code here"
   ]
  },
  {
   "cell_type": "code",
   "execution_count": null,
   "metadata": {},
   "outputs": [],
   "source": [
    "#Below is the first part of the code\n",
    "dataframe = pd.concat(combine)\n",
    "dataframe['TIMEFRAME'] = pd.to_datetime(dataframe['TIMEFRAME'], format=\"%d/%m/%Y %H:%M:%S\", infer_datetime_format=True )\n",
    "dataframe.set_index('TIMEFRAME', inplace=True)\n",
    "filt = ['SURJEK_FLOW_METER_1', 'SURJEK_FLOW_METER_2', 'ROTATIONAL_PUMP_RPM',\n",
    "       'SURJEK_PUMP_TORQUE', 'MAXIMUM_DAILY_PUMP_TORQUE',\n",
    "       'SURJEK_TUBE_PRESSURE',\n",
    "       'SURJEK_ESTIMATED_EFFICIENCY','PUMP FAILURE (1 or 0)']\n",
    "#----write your code below------\n",
    "\n"
   ]
  },
  {
   "cell_type": "markdown",
   "metadata": {},
   "source": [
    "### Creating a Multivariate Regression Model\n"
   ]
  },
  {
   "cell_type": "markdown",
   "metadata": {},
   "source": [
    "When you worked on this case study in Excel, you went through the tricky process of using the rolling standard deviation variables to generate a regression equation. Happily, this process is much simpler in Python.  \n",
    "\n",
    "For this step, you'll be using the statsmodel.api library you imported earlier and calling the Ordinary Least Squares Regression to create a multivariate regression model (which is a linear regression model with more than one independent variable).\n",
    "\n",
    "### Step 14: <span style=\"color:purple\">Use OLS Regression</span> \n",
    "i) Using the OLS Regression Model in the statsmodel.api library, create a regression equation that models the Pump Failure (Y-Variable) against all your independent variables, which include every other variable that is not PUMP FAILURE (1 or 0). What is the R Squared for the model and what does this signify?\n",
    "\n",
    "ii) Repeat i) but this time use the rolling standard deviation variables you created previously. What is the R Squared for the model and what does this signify?\n",
    "\n",
    "**Open-ended Question:**\n",
    "\n",
    "Which linear regression model seems to be a better fit?\n",
    "\n",
    "**Note:** We have provided the initial dataframe and filter list."
   ]
  },
  {
   "cell_type": "markdown",
   "metadata": {},
   "source": [
    "## Please put your code here "
   ]
  },
  {
   "cell_type": "code",
   "execution_count": null,
   "metadata": {},
   "outputs": [],
   "source": [
    "#Answer for step i): \n",
    "#Below is the first part of the code\n",
    "dataframe_two = pd.concat(combine)\n",
    "dependentVar = dataframe_two['PUMP FAILURE (1 or 0)']\n",
    "filt = ['SURJEK_FLOW_METER_1', 'SURJEK_FLOW_METER_2', 'ROTATIONAL_PUMP_RPM',\n",
    "       'SURJEK_PUMP_TORQUE', 'MAXIMUM_DAILY_PUMP_TORQUE',\n",
    "       'SURJEK_AMMONIA_FLOW_RATE', 'SURJEK_TUBE_PRESSURE',\n",
    "       'SURJEK_ESTIMATED_EFFICIENCY', 'PUMP FAILURE (1 or 0)']\n",
    "#----write your code below------\n",
    "\n"
   ]
  },
  {
   "cell_type": "code",
   "execution_count": null,
   "metadata": {},
   "outputs": [],
   "source": [
    "#answer for step ii): \n",
    "#Below is the first part of the code\n",
    "dataframe_two = pd.concat(combine)\n",
    "dependentVar = dataframe_two['PUMP FAILURE (1 or 0)']\n",
    "filt = ['SURJEK_FLOW_METER_1', 'SURJEK_FLOW_METER_2', 'ROTATIONAL_PUMP_RPM',\n",
    "       'SURJEK_PUMP_TORQUE', 'MAXIMUM_DAILY_PUMP_TORQUE',\n",
    "       'SURJEK_AMMONIA_FLOW_RATE', 'SURJEK_TUBE_PRESSURE',\n",
    "       'SURJEK_ESTIMATED_EFFICIENCY', 'PUMP FAILURE (1 or 0)']\n",
    "#----write your code below------\n",
    "\n"
   ]
  },
  {
   "cell_type": "markdown",
   "metadata": {},
   "source": [
    "Great job creating those regressive equations! You've reached the final step of this case study!\n",
    "### Step 15: <span style=\"color:purple\">Validate Predictions</span> \n",
    "i) Use the regression equation you created in the previous step and apply the .predict() function to the dataframe to see whether or not your model 'picks' up the Pump Failure Event.  \n",
    "\n",
    "ii) Plot the rolling linear regression equation against the attribute 'PUMP FAILURE (1 or 0)'\n",
    "\n",
    "**Note:** Please ensure all axes are clearly labelled and ensure that you use Dual Axes to plot this. Make the line widths wider than 1 so the plots are easier to see. We have provided the initial figure size."
   ]
  },
  {
   "cell_type": "markdown",
   "metadata": {},
   "source": [
    "## Please put your code here"
   ]
  },
  {
   "cell_type": "code",
   "execution_count": null,
   "metadata": {},
   "outputs": [],
   "source": [
    "#Below is the first part of the code\n",
    "mpl.rcParams['figure.figsize'] = (15,4)\n",
    "#----write your code below------\n",
    "\n",
    "\n",
    "#ax.legend(bbox_to_anchor=(1.04,1), loc=\"upper left\")\n"
   ]
  },
  {
   "cell_type": "markdown",
   "metadata": {},
   "source": [
    "You've made it to the end of this challenging case study — well done! You've now converted all of the analysis you did for Southern Water Corp using Excel into Python. You created visualizations using Seaborn, manipulated datasets with pandas, and so much more! This case study was designed to give you practice using Python to analyze datasets both large and small — you can now apply these skills to work you do throughout your career as a data analyst.\n",
    "\n",
    "## Great job! Being able to complete this case study means that you're now fluent in Python for data analysis! Congratulations!"
   ]
  }
 ],
 "metadata": {
  "celltoolbar": "Raw Cell Format",
  "kernelspec": {
   "display_name": "Python 3",
   "language": "python",
   "name": "python3"
  },
  "language_info": {
   "codemirror_mode": {
    "name": "ipython",
    "version": 3
   },
   "file_extension": ".py",
   "mimetype": "text/x-python",
   "name": "python",
   "nbconvert_exporter": "python",
   "pygments_lexer": "ipython3",
   "version": "3.7.3"
  }
 },
 "nbformat": 4,
 "nbformat_minor": 4
}
